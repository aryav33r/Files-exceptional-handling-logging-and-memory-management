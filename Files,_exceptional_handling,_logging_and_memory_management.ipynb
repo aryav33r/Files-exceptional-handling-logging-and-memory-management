{
  "nbformat": 4,
  "nbformat_minor": 0,
  "metadata": {
    "colab": {
      "provenance": []
    },
    "kernelspec": {
      "name": "python3",
      "display_name": "Python 3"
    },
    "language_info": {
      "name": "python"
    }
  },
  "cells": [
    {
      "cell_type": "code",
      "execution_count": null,
      "metadata": {
        "id": "cL9dKM99RPba"
      },
      "outputs": [],
      "source": [
        "1.What is the difference between interpreted and compiled languages?\n",
        "The key difference between interpreted and compiled programming languages lies in how their code is executed by the computer. Here's a breakdown of both:\n",
        "\n",
        "### 1. **Compiled Languages**:\n",
        "   - **Definition**: In compiled languages, the source code is transformed (compiled) into machine code (binary code) by a compiler before it is executed. The result is an executable file (like `.exe` on Windows).\n",
        "   - **Execution**: The compiled code is executed directly by the computer's hardware. The compilation process happens once, and the program can be run multiple times without needing to be compiled again.\n",
        "   - **Performance**: Typically faster at runtime because the translation into machine code happens before execution.\n",
        "   - **Examples**: C, C++, Rust, Go.\n",
        "\n",
        "   **Process**:\n",
        "   1. **Write code**.\n",
        "   2. **Compile code** (convert to machine code).\n",
        "   3. **Run the program**.\n",
        "\n",
        "### 2. **Interpreted Languages**:\n",
        "   - **Definition**: In interpreted languages, the source code is not directly compiled into machine code. Instead, an interpreter reads and executes the code line by line or statement by statement at runtime.\n",
        "   - **Execution**: The code is executed directly by the interpreter, which translates the code into machine instructions during execution.\n",
        "   - **Performance**: Interpreted languages tend to be slower than compiled languages because the translation happens during execution, which adds overhead.\n",
        "   - **Examples**: Python, JavaScript, Ruby, PHP.\n",
        "\n",
        "   **Process**:\n",
        "   1. **Write code**.\n",
        "   2. **Run the interpreter**, which translates and executes the code line by line.\n",
        "\n",
        "### **Key Differences**:\n",
        "| Feature               | Compiled Languages        | Interpreted Languages      |\n",
        "|-----------------------|---------------------------|----------------------------|\n",
        "| **Translation Process**| Translates entire code to machine code before execution | Translates code line by line during execution |\n",
        "| **Execution Speed**    | Faster, as the program is precompiled | Slower, as each line is interpreted during execution |\n",
        "| **Portability**        | Less portable; machine-specific binaries | More portable, as long as the interpreter is available |\n",
        "| **Error Detection**    | Errors are caught at compile-time | Errors are caught at runtime |\n",
        "| **Examples**           | C, C++, Go, Rust          | Python, Ruby, JavaScript   |\n",
        "\n",
        "### Hybrid Approach:\n",
        "Some languages, like **Java** or **C#**, use a combination of both methods. Java code is first compiled to an intermediate bytecode, which is then interpreted or compiled just-in-time (JIT) by the Java Virtual Machine (JVM) during execution.\n",
        "\n",
        "In summary:\n",
        "- **Compiled languages** are translated to machine code once, offering faster execution.\n",
        "- **Interpreted languages** are executed line-by-line by an interpreter, which can make them slower but more flexible."
      ]
    },
    {
      "cell_type": "markdown",
      "source": [
        "2."
      ],
      "metadata": {
        "id": "Phco573gRon7"
      }
    },
    {
      "cell_type": "code",
      "source": [],
      "metadata": {
        "id": "Q6_70n3ORs6v"
      },
      "execution_count": null,
      "outputs": []
    }
  ]
}